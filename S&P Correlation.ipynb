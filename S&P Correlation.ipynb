{
 "cells": [
  {
   "cell_type": "code",
   "execution_count": 1,
   "id": "11617419",
   "metadata": {},
   "outputs": [
    {
     "name": "stdout",
     "output_type": "stream",
     "text": [
      "Requirement already satisfied: yfinance in /opt/anaconda3/lib/python3.8/site-packages (0.2.18)\n",
      "Requirement already satisfied: pandas in /opt/anaconda3/lib/python3.8/site-packages (2.0.1)\n",
      "Requirement already satisfied: numpy in /opt/anaconda3/lib/python3.8/site-packages (1.24.3)\n",
      "Requirement already satisfied: pytz>=2020.1 in /opt/anaconda3/lib/python3.8/site-packages (from pandas) (2023.3)\n",
      "Requirement already satisfied: python-dateutil>=2.8.2 in /opt/anaconda3/lib/python3.8/site-packages (from pandas) (2.8.2)\n",
      "Requirement already satisfied: tzdata>=2022.1 in /opt/anaconda3/lib/python3.8/site-packages (from pandas) (2023.3)\n",
      "Requirement already satisfied: six>=1.5 in /opt/anaconda3/lib/python3.8/site-packages (from python-dateutil>=2.8.2->pandas) (1.15.0)\n",
      "Requirement already satisfied: lxml>=4.9.1 in /opt/anaconda3/lib/python3.8/site-packages (from yfinance) (4.9.2)\n",
      "Requirement already satisfied: appdirs>=1.4.4 in /opt/anaconda3/lib/python3.8/site-packages (from yfinance) (1.4.4)\n",
      "Requirement already satisfied: cryptography>=3.3.2 in /opt/anaconda3/lib/python3.8/site-packages (from yfinance) (3.4.7)\n",
      "Requirement already satisfied: beautifulsoup4>=4.11.1 in /opt/anaconda3/lib/python3.8/site-packages (from yfinance) (4.12.2)\n",
      "Requirement already satisfied: requests>=2.26 in /opt/anaconda3/lib/python3.8/site-packages (from yfinance) (2.31.0)\n",
      "Requirement already satisfied: html5lib>=1.1 in /opt/anaconda3/lib/python3.8/site-packages (from yfinance) (1.1)\n",
      "Requirement already satisfied: multitasking>=0.0.7 in /opt/anaconda3/lib/python3.8/site-packages (from yfinance) (0.0.11)\n",
      "Requirement already satisfied: frozendict>=2.3.4 in /opt/anaconda3/lib/python3.8/site-packages (from yfinance) (2.3.8)\n",
      "Requirement already satisfied: soupsieve>1.2 in /opt/anaconda3/lib/python3.8/site-packages (from beautifulsoup4>=4.11.1->yfinance) (2.2.1)\n",
      "Requirement already satisfied: cffi>=1.12 in /opt/anaconda3/lib/python3.8/site-packages (from cryptography>=3.3.2->yfinance) (1.14.5)\n",
      "Requirement already satisfied: pycparser in /opt/anaconda3/lib/python3.8/site-packages (from cffi>=1.12->cryptography>=3.3.2->yfinance) (2.20)\n",
      "Requirement already satisfied: webencodings in /opt/anaconda3/lib/python3.8/site-packages (from html5lib>=1.1->yfinance) (0.5.1)\n",
      "Requirement already satisfied: urllib3<3,>=1.21.1 in /opt/anaconda3/lib/python3.8/site-packages (from requests>=2.26->yfinance) (1.26.4)\n",
      "Requirement already satisfied: certifi>=2017.4.17 in /opt/anaconda3/lib/python3.8/site-packages (from requests>=2.26->yfinance) (2020.12.5)\n",
      "Requirement already satisfied: idna<4,>=2.5 in /opt/anaconda3/lib/python3.8/site-packages (from requests>=2.26->yfinance) (2.10)\n",
      "Requirement already satisfied: charset-normalizer<4,>=2 in /opt/anaconda3/lib/python3.8/site-packages (from requests>=2.26->yfinance) (3.1.0)\n"
     ]
    }
   ],
   "source": [
    "!pip install yfinance pandas numpy"
   ]
  },
  {
   "cell_type": "code",
   "execution_count": 2,
   "id": "54847038",
   "metadata": {},
   "outputs": [],
   "source": [
    "import yfinance as yf\n",
    "import pandas as pd\n",
    "import numpy as np"
   ]
  },
  {
   "cell_type": "code",
   "execution_count": 3,
   "id": "f163715a",
   "metadata": {},
   "outputs": [],
   "source": [
    "tickers = ['^GSPC', 'GOOGL', 'AAPL']\n",
    "start_date = '2018-05-25'\n",
    "end_date = '2023-05-25'"
   ]
  },
  {
   "cell_type": "code",
   "execution_count": 4,
   "id": "340efc03",
   "metadata": {},
   "outputs": [
    {
     "name": "stdout",
     "output_type": "stream",
     "text": [
      "[*********************100%***********************]  3 of 3 completed\n"
     ]
    }
   ],
   "source": [
    "data = yf.download(tickers, start=start_date, end=end_date)['Adj Close']"
   ]
  },
  {
   "cell_type": "code",
   "execution_count": 5,
   "id": "c5d3ae90",
   "metadata": {},
   "outputs": [],
   "source": [
    "correlation_matrix = data.corr()"
   ]
  },
  {
   "cell_type": "code",
   "execution_count": 6,
   "id": "887a26a8",
   "metadata": {},
   "outputs": [
    {
     "name": "stdout",
     "output_type": "stream",
     "text": [
      "           AAPL     GOOGL     ^GSPC\n",
      "AAPL   1.000000  0.907771  0.944941\n",
      "GOOGL  0.907771  1.000000  0.972598\n",
      "^GSPC  0.944941  0.972598  1.000000\n"
     ]
    }
   ],
   "source": [
    "print(correlation_matrix)"
   ]
  },
  {
   "cell_type": "code",
   "execution_count": null,
   "id": "e7a019e6",
   "metadata": {},
   "outputs": [],
   "source": []
  }
 ],
 "metadata": {
  "kernelspec": {
   "display_name": "Python 3",
   "language": "python",
   "name": "python3"
  },
  "language_info": {
   "codemirror_mode": {
    "name": "ipython",
    "version": 3
   },
   "file_extension": ".py",
   "mimetype": "text/x-python",
   "name": "python",
   "nbconvert_exporter": "python",
   "pygments_lexer": "ipython3",
   "version": "3.8.8"
  }
 },
 "nbformat": 4,
 "nbformat_minor": 5
}
